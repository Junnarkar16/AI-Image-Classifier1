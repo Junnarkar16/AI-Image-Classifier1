{
 "cells": [
  {
   "cell_type": "code",
   "execution_count": 1,
   "id": "69662bc5-05ae-42fb-a984-7315dadf2041",
   "metadata": {},
   "outputs": [
    {
     "name": "stdout",
     "output_type": "stream",
     "text": [
      "Package           Version\n",
      "----------------- -----------\n",
      "asttokens         2.4.1\n",
      "colorama          0.4.6\n",
      "comm              0.2.2\n",
      "debugpy           1.8.1\n",
      "decorator         5.1.1\n",
      "exceptiongroup    1.2.1\n",
      "executing         2.0.1\n",
      "ipykernel         6.29.4\n",
      "ipython           8.25.0\n",
      "jedi              0.19.1\n",
      "jupyter_client    8.6.2\n",
      "jupyter_core      5.7.2\n",
      "matplotlib-inline 0.1.7\n",
      "nest-asyncio      1.6.0\n",
      "numpy             2.0.0\n",
      "packaging         24.1\n",
      "parso             0.8.4\n",
      "pip               24.0\n",
      "platformdirs      4.2.2\n",
      "prompt_toolkit    3.0.47\n",
      "psutil            5.9.8\n",
      "pure-eval         0.2.2\n",
      "Pygments          2.18.0\n",
      "python-dateutil   2.9.0.post0\n",
      "pywin32           306\n",
      "pyzmq             26.0.3\n",
      "setuptools        65.5.0\n",
      "six               1.16.0\n",
      "stack-data        0.6.3\n",
      "tornado           6.4.1\n",
      "traitlets         5.14.3\n",
      "typing_extensions 4.12.2\n",
      "wcwidth           0.2.13\n",
      "Note: you may need to restart the kernel to use updated packages.\n"
     ]
    }
   ],
   "source": [
    "pip list\n"
   ]
  },
  {
   "cell_type": "code",
   "execution_count": 2,
   "id": "0e2def90-5f08-4a7e-8e4d-70abbc270ca4",
   "metadata": {},
   "outputs": [
    {
     "name": "stdout",
     "output_type": "stream",
     "text": [
      "Collecting matplotlib\n",
      "  Downloading matplotlib-3.9.0-cp310-cp310-win_amd64.whl.metadata (11 kB)\n",
      "Collecting contourpy>=1.0.1 (from matplotlib)\n",
      "  Downloading contourpy-1.2.1-cp310-cp310-win_amd64.whl.metadata (5.8 kB)\n",
      "Collecting cycler>=0.10 (from matplotlib)\n",
      "  Downloading cycler-0.12.1-py3-none-any.whl.metadata (3.8 kB)\n",
      "Collecting fonttools>=4.22.0 (from matplotlib)\n",
      "  Downloading fonttools-4.53.0-cp310-cp310-win_amd64.whl.metadata (165 kB)\n",
      "     ---------------------------------------- 0.0/165.5 kB ? eta -:--:--\n",
      "     -------------------------------------- 165.5/165.5 kB 5.0 MB/s eta 0:00:00\n",
      "Collecting kiwisolver>=1.3.1 (from matplotlib)\n",
      "  Downloading kiwisolver-1.4.5-cp310-cp310-win_amd64.whl.metadata (6.5 kB)\n",
      "Requirement already satisfied: numpy>=1.23 in d:\\project1\\ai-image-classifier1\\imageclassification\\lib\\site-packages (from matplotlib) (2.0.0)\n",
      "Requirement already satisfied: packaging>=20.0 in d:\\project1\\ai-image-classifier1\\imageclassification\\lib\\site-packages (from matplotlib) (24.1)\n",
      "Collecting pillow>=8 (from matplotlib)\n",
      "  Downloading pillow-10.3.0-cp310-cp310-win_amd64.whl.metadata (9.4 kB)\n",
      "Collecting pyparsing>=2.3.1 (from matplotlib)\n",
      "  Downloading pyparsing-3.1.2-py3-none-any.whl.metadata (5.1 kB)\n",
      "Requirement already satisfied: python-dateutil>=2.7 in d:\\project1\\ai-image-classifier1\\imageclassification\\lib\\site-packages (from matplotlib) (2.9.0.post0)\n",
      "Requirement already satisfied: six>=1.5 in d:\\project1\\ai-image-classifier1\\imageclassification\\lib\\site-packages (from python-dateutil>=2.7->matplotlib) (1.16.0)\n",
      "Downloading matplotlib-3.9.0-cp310-cp310-win_amd64.whl (8.0 MB)\n",
      "   ---------------------------------------- 0.0/8.0 MB ? eta -:--:--\n",
      "   -- ------------------------------------- 0.6/8.0 MB 9.1 MB/s eta 0:00:01\n",
      "   ----- ---------------------------------- 1.0/8.0 MB 10.9 MB/s eta 0:00:01\n",
      "   -------- ------------------------------- 1.6/8.0 MB 12.8 MB/s eta 0:00:01\n",
      "   ---------- ----------------------------- 2.2/8.0 MB 12.5 MB/s eta 0:00:01\n",
      "   ------------- -------------------------- 2.7/8.0 MB 12.3 MB/s eta 0:00:01\n",
      "   ---------------- ----------------------- 3.3/8.0 MB 11.6 MB/s eta 0:00:01\n",
      "   ------------------- -------------------- 3.8/8.0 MB 12.2 MB/s eta 0:00:01\n",
      "   ---------------------- ----------------- 4.4/8.0 MB 12.1 MB/s eta 0:00:01\n",
      "   ------------------------ --------------- 4.9/8.0 MB 12.2 MB/s eta 0:00:01\n",
      "   --------------------------- ------------ 5.5/8.0 MB 12.1 MB/s eta 0:00:01\n",
      "   ------------------------------ --------- 6.0/8.0 MB 11.6 MB/s eta 0:00:01\n",
      "   -------------------------------- ------- 6.5/8.0 MB 11.9 MB/s eta 0:00:01\n",
      "   ----------------------------------- ---- 7.1/8.0 MB 11.7 MB/s eta 0:00:01\n",
      "   -------------------------------------- - 7.6/8.0 MB 11.9 MB/s eta 0:00:01\n",
      "   ---------------------------------------  7.9/8.0 MB 11.8 MB/s eta 0:00:01\n",
      "   ---------------------------------------- 8.0/8.0 MB 11.3 MB/s eta 0:00:00\n",
      "Downloading contourpy-1.2.1-cp310-cp310-win_amd64.whl (187 kB)\n",
      "   ---------------------------------------- 0.0/187.5 kB ? eta -:--:--\n",
      "   --------------------------------------- 187.5/187.5 kB 11.8 MB/s eta 0:00:00\n",
      "Downloading cycler-0.12.1-py3-none-any.whl (8.3 kB)\n",
      "Downloading fonttools-4.53.0-cp310-cp310-win_amd64.whl (2.2 MB)\n",
      "   ---------------------------------------- 0.0/2.2 MB ? eta -:--:--\n",
      "   ---------- ----------------------------- 0.6/2.2 MB 18.5 MB/s eta 0:00:01\n",
      "   -------------------- ------------------- 1.1/2.2 MB 14.3 MB/s eta 0:00:01\n",
      "   ------------------------------ --------- 1.7/2.2 MB 13.4 MB/s eta 0:00:01\n",
      "   ---------------------------------------  2.2/2.2 MB 11.7 MB/s eta 0:00:01\n",
      "   ---------------------------------------- 2.2/2.2 MB 10.8 MB/s eta 0:00:00\n",
      "Downloading kiwisolver-1.4.5-cp310-cp310-win_amd64.whl (56 kB)\n",
      "   ---------------------------------------- 0.0/56.1 kB ? eta -:--:--\n",
      "   ---------------------------------------- 56.1/56.1 kB 3.1 MB/s eta 0:00:00\n",
      "Downloading pillow-10.3.0-cp310-cp310-win_amd64.whl (2.5 MB)\n",
      "   ---------------------------------------- 0.0/2.5 MB ? eta -:--:--\n",
      "   ------- -------------------------------- 0.5/2.5 MB 10.0 MB/s eta 0:00:01\n",
      "   ---------------- ----------------------- 1.0/2.5 MB 12.9 MB/s eta 0:00:01\n",
      "   ------------------------ --------------- 1.6/2.5 MB 14.3 MB/s eta 0:00:01\n",
      "   --------------------------------- ------ 2.1/2.5 MB 12.3 MB/s eta 0:00:01\n",
      "   ---------------------------------------  2.5/2.5 MB 12.4 MB/s eta 0:00:01\n",
      "   ---------------------------------------- 2.5/2.5 MB 11.5 MB/s eta 0:00:00\n",
      "Downloading pyparsing-3.1.2-py3-none-any.whl (103 kB)\n",
      "   ---------------------------------------- 0.0/103.2 kB ? eta -:--:--\n",
      "   ---------------------------------------- 103.2/103.2 kB 5.8 MB/s eta 0:00:00\n",
      "Installing collected packages: pyparsing, pillow, kiwisolver, fonttools, cycler, contourpy, matplotlib\n",
      "Successfully installed contourpy-1.2.1 cycler-0.12.1 fonttools-4.53.0 kiwisolver-1.4.5 matplotlib-3.9.0 pillow-10.3.0 pyparsing-3.1.2\n"
     ]
    }
   ],
   "source": [
    "!pip install matplotlib"
   ]
  },
  {
   "cell_type": "code",
   "execution_count": null,
   "id": "030862f5-ea0e-4eb5-9eec-7de679094af0",
   "metadata": {},
   "outputs": [],
   "source": [
    "!pip install tensorflow"
   ]
  },
  {
   "cell_type": "code",
   "execution_count": null,
   "id": "6af17337-02d5-43aa-9bc0-f7a6cf786c5c",
   "metadata": {},
   "outputs": [],
   "source": []
  }
 ],
 "metadata": {
  "kernelspec": {
   "display_name": "ImageClassifier",
   "language": "python",
   "name": "imageclassifier"
  },
  "language_info": {
   "codemirror_mode": {
    "name": "ipython",
    "version": 3
   },
   "file_extension": ".py",
   "mimetype": "text/x-python",
   "name": "python",
   "nbconvert_exporter": "python",
   "pygments_lexer": "ipython3",
   "version": "3.10.9"
  }
 },
 "nbformat": 4,
 "nbformat_minor": 5
}
